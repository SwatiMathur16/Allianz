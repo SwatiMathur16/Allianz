{
 "cells": [
  {
   "cell_type": "code",
   "execution_count": 4,
   "id": "ec8327a5",
   "metadata": {},
   "outputs": [],
   "source": [
    "#write to a file\n",
    "#\"w\" - Write - will create a file if the specified file does not exist\n",
    "file1 =open(\"test.txt\",\"w\")\n",
    "file1.write(\"Welcome to Allianz, on behalf of cloudthat\")\n",
    "file1.close()"
   ]
  },
  {
   "cell_type": "code",
   "execution_count": 5,
   "id": "cbdf3bba",
   "metadata": {},
   "outputs": [
    {
     "name": "stdout",
     "output_type": "stream",
     "text": [
      "Welcome to Allianz, on behalf of cloudthat\n"
     ]
    }
   ],
   "source": [
    "#with keyword\n",
    "\n",
    "with open(\"test.txt\",\"r\") as f:   \n",
    "    print(f.read())"
   ]
  },
  {
   "cell_type": "code",
   "execution_count": 6,
   "id": "19619b0c",
   "metadata": {},
   "outputs": [
    {
     "name": "stdout",
     "output_type": "stream",
     "text": [
      "Welcome to Allianz, on behalf of cloudthat\n",
      "b'Welcome to Allianz, on behalf of cloudthat'\n"
     ]
    }
   ],
   "source": [
    "with open(\"test.txt\",\"r\") as f:   \n",
    "    print(f.read())\n",
    "with open(\"test.txt\",\"rb\") as f:   \n",
    "    print(f.read())"
   ]
  },
  {
   "cell_type": "markdown",
   "id": "a7634d63-b530-4bc3-9192-8dee2cf62f10",
   "metadata": {},
   "source": [
    "Custom Context Manager"
   ]
  },
  {
   "cell_type": "code",
   "execution_count": 1,
   "id": "f4a0572d-4d75-4d8d-af48-53b6d86ac5bb",
   "metadata": {},
   "outputs": [
    {
     "name": "stdout",
     "output_type": "stream",
     "text": [
      "init method called\n",
      "enter method called\n",
      "with statement block\n",
      "exit method called\n"
     ]
    }
   ],
   "source": [
    "class ContextManager:\n",
    "    def __init__(self):\n",
    "        print('init method called')\n",
    "        \n",
    "    def __enter__(self): #sets up the resource and returns it.\n",
    "        print('enter method called')\n",
    "        return self\n",
    "    \n",
    "    def __exit__(self, exc_type, exc_value, exc_traceback): #cleans up the resource\n",
    "        print('exit method called')\n",
    "\n",
    "with ContextManager() as manager:\n",
    "    print('with statement block')"
   ]
  },
  {
   "cell_type": "code",
   "execution_count": 2,
   "id": "c36742fb-0e2d-45c2-adb1-77c7151e06a9",
   "metadata": {},
   "outputs": [
    {
     "name": "stdout",
     "output_type": "stream",
     "text": [
      "True\n"
     ]
    }
   ],
   "source": [
    "#FileManager class to handle opening, reading/writing and automatically closing a file.\n",
    "class FileManager:\n",
    "    def __init__(self, filename, mode):\n",
    "        self.filename = filename\n",
    "        self.mode = mode\n",
    "        self.file = None\n",
    "        \n",
    "    def __enter__(self):\n",
    "        self.file = open(self.filename, self.mode)\n",
    "        return self.file\n",
    "    \n",
    "    def __exit__(self, exc_type, exc_value, exc_traceback):\n",
    "        self.file.close()\n",
    "\n",
    "with FileManager('test.txt', 'w') as f:\n",
    "    f.write('Test')\n",
    "print(f.closed)"
   ]
  },
  {
   "cell_type": "code",
   "execution_count": null,
   "id": "2b582256-0a84-4ec5-98b7-c4d185727f29",
   "metadata": {},
   "outputs": [],
   "source": []
  }
 ],
 "metadata": {
  "kernelspec": {
   "display_name": "Python 3 (ipykernel)",
   "language": "python",
   "name": "python3"
  },
  "language_info": {
   "codemirror_mode": {
    "name": "ipython",
    "version": 3
   },
   "file_extension": ".py",
   "mimetype": "text/x-python",
   "name": "python",
   "nbconvert_exporter": "python",
   "pygments_lexer": "ipython3",
   "version": "3.12.3"
  }
 },
 "nbformat": 4,
 "nbformat_minor": 5
}
